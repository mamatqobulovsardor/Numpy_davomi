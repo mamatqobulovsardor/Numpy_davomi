{
  "nbformat": 4,
  "nbformat_minor": 0,
  "metadata": {
    "colab": {
      "provenance": [],
      "authorship_tag": "ABX9TyOc1tIHIt9VK1153vlg3fdR",
      "include_colab_link": true
    },
    "kernelspec": {
      "name": "python3",
      "display_name": "Python 3"
    },
    "language_info": {
      "name": "python"
    }
  },
  "cells": [
    {
      "cell_type": "markdown",
      "metadata": {
        "id": "view-in-github",
        "colab_type": "text"
      },
      "source": [
        "<a href=\"https://colab.research.google.com/github/mamatqobulovsardor/Numpy_davomi/blob/main/Numpy_davomi.ipynb\" target=\"_parent\"><img src=\"https://colab.research.google.com/assets/colab-badge.svg\" alt=\"Open In Colab\"/></a>"
      ]
    },
    {
      "cell_type": "markdown",
      "source": [
        "#Numpy davomi"
      ],
      "metadata": {
        "id": "ekJbg4oEeX_v"
      }
    },
    {
      "cell_type": "code",
      "execution_count": 1,
      "metadata": {
        "id": "hUmuVXXfePr2"
      },
      "outputs": [],
      "source": [
        "import numpy as np"
      ]
    },
    {
      "cell_type": "code",
      "source": [
        "a1 = np.zeros(10, dtype=int)\n",
        "print(\"a1:\", a1)"
      ],
      "metadata": {
        "colab": {
          "base_uri": "https://localhost:8080/"
        },
        "id": "X-27FVFSekLj",
        "outputId": "9a35e1b4-ce1d-4742-8d08-def67279ade3"
      },
      "execution_count": 2,
      "outputs": [
        {
          "output_type": "stream",
          "name": "stdout",
          "text": [
            "a1: [0 0 0 0 0 0 0 0 0 0]\n"
          ]
        }
      ]
    },
    {
      "cell_type": "code",
      "source": [
        "a2 = ['??????????']\n",
        "print(\"a2:\", a2)"
      ],
      "metadata": {
        "colab": {
          "base_uri": "https://localhost:8080/"
        },
        "id": "-e2QoDF_ez4c",
        "outputId": "3e34b461-f173-46be-d500-c9d85d71c426"
      },
      "execution_count": 5,
      "outputs": [
        {
          "output_type": "stream",
          "name": "stdout",
          "text": [
            "a2: ['??????????']\n"
          ]
        }
      ]
    },
    {
      "cell_type": "code",
      "source": [
        "a3 = ['??????????']\n",
        "print(\"a3:\", a3)"
      ],
      "metadata": {
        "colab": {
          "base_uri": "https://localhost:8080/"
        },
        "id": "j8CC8opzfBKf",
        "outputId": "79b7e57a-b963-4e78-ab7a-3d33df4fc08b"
      },
      "execution_count": 6,
      "outputs": [
        {
          "output_type": "stream",
          "name": "stdout",
          "text": [
            "a3: ['??????????']\n"
          ]
        }
      ]
    },
    {
      "cell_type": "code",
      "source": [
        "a4 = ['??????????']\n",
        "print(\"a4:\", a4)\n"
      ],
      "metadata": {
        "colab": {
          "base_uri": "https://localhost:8080/"
        },
        "id": "u1nPP8y7fY1_",
        "outputId": "8f8a902f-2e24-427b-eeae-fc928af5d48e"
      },
      "execution_count": 7,
      "outputs": [
        {
          "output_type": "stream",
          "name": "stdout",
          "text": [
            "a4: ['??????????']\n"
          ]
        }
      ]
    }
  ]
}